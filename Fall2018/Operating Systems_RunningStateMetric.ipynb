{
 "cells": [
  {
   "cell_type": "markdown",
   "metadata": {},
   "source": [
    "# Operating Systems - A first metric on processes\n",
    "\n",
    "## Introduction\n",
    "\n",
    "We will spend a lot of time in this class comparing design alternatives for operating system subsystems.  One way we will do that is through computing *metrics* on the perfomance of a given subsytsem.  This note highlights a simple first metric on process execution to introduce the idea of metrics. \n",
    "\n",
    "## *Fraction of time running* metric\n",
    "\n",
    "### Rationale for why this metric is interesting\n",
    "\n",
    "A given process will primarily be making progress towards completion when it is in the *Running* state on a CPU.  While waiting for events to occur (such as input and output to finish) in the *Blocked* state is also productive, we will initially be interested in just the fractiom of time a process is in the *Running* state.  A metric that reports the percentage of time a process is in the *Running* state can provide insights into whether a process is *CPU-intensive* or *I/O-intensive* as well as provide some insights, when evaluated in the context of multiple processes, into the scheduling algorithms being used.  If another process is executing, a process  may spend some significant time in the *Ready* state instead of *Running*.\n",
    "\n",
    "### Definition\n",
    "\n",
    "For this metric, we'll define it as the fraction of timesteps, out of all the timesteps for which a process executed, in which a process is in the *Running* state.  \n",
    "\n",
    "### Example\n",
    "\n",
    "Here is the state trace from the state transition diagram notes.  Each value represents the state a process was in at a given timestep.\n",
    "\n",
    "```\n",
    "New\n",
    "Ready\n",
    "Running\n",
    "Running\n",
    "Blocked\n",
    "Ready\n",
    "Running\n",
    "Running\n",
    "Exit\n",
    "```\n",
    "\n",
    "The total number of timesteps for which the process was present is 9.  The process is in the *Running* state for 4 of those timesteps (times 3, 4, 7, and 8, when starting counting at 1).  The fraction of time the process is in the *Running* state is 4/9, which reduces to 0.444.  \n",
    "\n",
    "## Python code to compute the *fraction of time running* metric\n",
    "\n",
    "Below is Python code to compute the *fraction of time running* metric for a state trace, where the state trace is provided as a list of strings."
   ]
  },
  {
   "cell_type": "code",
   "execution_count": null,
   "metadata": {},
   "outputs": [],
   "source": [
    "# This list represents the state trace\n",
    "stateTrace = ['New','Ready','Running','Running','Blocked','Ready','Running','Running','Exit']\n",
    "\n",
    "# This variable represents the total number of timesteps (the length of the list)\n",
    "totalTimeSteps = len(stateTrace)\n",
    "\n",
    "# This variable represents the number of timesteps for which the process state is 'Running'\n",
    "# Initially it is set to 0\n",
    "runningStep = 0\n",
    "\n",
    "# Visit each string in the state trace list\n",
    "for state in stateTrace:\n",
    "    # Compare to the string 'Running'\n",
    "    if (state == 'Running'):\n",
    "        # Add 1 to the runningStep variable\n",
    "        runningStep = runningStep + 1\n",
    "        \n",
    "# This variable represents the fraction of timesteps the process is in the running state\n",
    "# out of all timesteps\n",
    "fraction = runningStep / totalTimeSteps\n",
    "\n",
    "# Print the answer to the user\n",
    "print(\"Fraction of time running: \", fraction)\n"
   ]
  },
  {
   "cell_type": "markdown",
   "metadata": {},
   "source": [
    "## More practice\n",
    "\n",
    "Try playing around with the example code above.\n",
    "\n",
    "* Change the *stateTrace* list and verify the code works on your new list by comparing the output to a manual calculation\n",
    "* Try updating the code to determine the fraction of time the process is in the *Ready* state instead of the *Running* state"
   ]
  }
 ],
 "metadata": {
  "kernelspec": {
   "display_name": "Python 3",
   "language": "python",
   "name": "python3"
  },
  "language_info": {
   "codemirror_mode": {
    "name": "ipython",
    "version": 3
   },
   "file_extension": ".py",
   "mimetype": "text/x-python",
   "name": "python",
   "nbconvert_exporter": "python",
   "pygments_lexer": "ipython3",
   "version": "3.6.4"
  }
 },
 "nbformat": 4,
 "nbformat_minor": 2
}
