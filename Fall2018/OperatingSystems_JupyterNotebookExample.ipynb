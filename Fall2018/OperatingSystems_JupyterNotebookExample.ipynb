{
 "cells": [
  {
   "cell_type": "markdown",
   "metadata": {},
   "source": [
    "# Welcome \n",
    "\n",
    "## Introduction\n",
    "\n",
    "Welcome to the example Jupyter notebook for the Operating Systems course.  The purpose of this example notebook is to make sure you can access and manipulate a Jupyter notebook from your laptop.  We will use these notebooks throughout the semester as a means of allowing you to read content related to the course topics, as well as a means to experiment with and manipulate relevant code.\n",
    "\n",
    "## Notebook design\n",
    "\n",
    "Jupyter notebooks are commonly composed of two types of content: text content (usually written in the Markdown language) and source code. \n",
    "\n",
    "### Markdown text cells\n",
    "\n",
    "This text is in a Markdown cell, so it is rendered for readability.  \n",
    "\n",
    "\n",
    "### A cell with Python code\n",
    "\n",
    "In the cell below is example Python code.  The code below will determine the maximum of the values in the list named *listOfValues*."
   ]
  },
  {
   "cell_type": "code",
   "execution_count": null,
   "metadata": {},
   "outputs": [],
   "source": [
    "# create a list of values\n",
    "listOfValues = [2, 8, 3, 5, 9, 1]\n",
    "\n",
    "# create a variable to hold the maximum value\n",
    "# assign it the value of the first entry in the list\n",
    "maxValue = listOfValues[0]\n",
    "\n",
    "# iterate over the list, comparing each value to maxValue\n",
    "# assign maxValue the value in the list if it is larger than\n",
    "# the current maxValue\n",
    "for value in listOfValues:\n",
    "    if (value > maxValue):\n",
    "        maxValue = value\n",
    "        \n",
    "# print the maximum value to the screen\n",
    "print(\"The maximum value in the list is\", maxValue)\n"
   ]
  },
  {
   "cell_type": "markdown",
   "metadata": {},
   "source": [
    "## Executing code\n",
    "\n",
    "If you would like to *execute* the code in a cell, click on the cell with teh code you want to execute (in order to select it) and then press the *Shift* and *Enter* keys together. Alternatively, you can go to the *Cell* menu and choose *Run cells* if you want to run only the cell you have selected, or *Run all* to run all the code cells in the document.  When a code cell has been executed, its output will show up directly under the code.  If you execute the code above, you should see output that looks like:\n",
    "```\n",
    "The maximum value in the list is 9\n",
    "```"
   ]
  },
  {
   "cell_type": "markdown",
   "metadata": {},
   "source": [
    "## Manipulating code\n",
    "\n",
    "You can change the code cells and then execute your new implementation.  Try changing the example above to include the value 11 somewhere in the list, and then re-execute the cell.  You should now see output that looks like: \n",
    "```\n",
    "The maximum value in the list is 11\n",
    "```"
   ]
  }
 ],
 "metadata": {
  "kernelspec": {
   "display_name": "Python 3",
   "language": "python",
   "name": "python3"
  },
  "language_info": {
   "codemirror_mode": {
    "name": "ipython",
    "version": 3
   },
   "file_extension": ".py",
   "mimetype": "text/x-python",
   "name": "python",
   "nbconvert_exporter": "python",
   "pygments_lexer": "ipython3",
   "version": "3.6.4"
  }
 },
 "nbformat": 4,
 "nbformat_minor": 2
}
