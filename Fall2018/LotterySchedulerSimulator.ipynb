{
 "cells": [
  {
   "cell_type": "markdown",
   "metadata": {},
   "source": [
    "# Lottery Scheduler Simulator"
   ]
  },
  {
   "cell_type": "markdown",
   "metadata": {},
   "source": [
    "## Introduction\n",
    "\n",
    "This notebooks implements a simple lottery scheduler simulator.  By changing the *number of time steps*, the *set of processes*, and the *number of tickets per process* (all on lines 14 through 18), one can explore how various settings for those parameters affect the generated schedules.\n",
    "\n",
    "## Running a cell\n",
    "If you click on the cell below, you can run it by hitting the *Play* button to the left of it.\n",
    "\n",
    "## Output\n",
    "The output that is generated from the cell is a graph containing *time steps* on the x-axis, *percentage of CPU use* on the y-axis, with a line plot for each process."
   ]
  },
  {
   "cell_type": "code",
   "execution_count": null,
   "metadata": {},
   "outputs": [],
   "source": [
    "def get_associated_process(ticket_bounds_arg, lottery_value_arg):\n",
    "    for index in range(len(ticket_bounds_arg)):\n",
    "        if (lottery_value_arg < ticket_bounds_arg[index]):\n",
    "            return index\n",
    "    return -1\n",
    "\n",
    "# Need the 'random' package to support lottery scheduling\n",
    "import random\n",
    "import copy\n",
    "import matplotlib.pyplot as plotter\n",
    "random.seed(525)\n",
    "\n",
    "# Number of timesteps to emulate in scheduling\n",
    "number_of_timesteps = 1000\n",
    "\n",
    "# Each process has a name and an associated number of tickets \n",
    "process_names = [\"A\", \"B\", \"C\"]\n",
    "process_tickets = [100,100,100]\n",
    "\n",
    "\n",
    "# Summary information about processes\n",
    "number_of_processes = len(process_names)\n",
    "number_of_tickets = 0\n",
    "ticket_bounds = [0] * number_of_processes\n",
    "for process in range(number_of_processes):\n",
    "    number_of_tickets = number_of_tickets + process_tickets[process]\n",
    "    ticket_bounds[process] = number_of_tickets\n",
    "\n",
    "print(\"Number of processes: \", number_of_processes)\n",
    "print(\"Number of tickets: \", number_of_tickets)\n",
    "print(\"Simulating \", number_of_timesteps, \" timesteps\")\n",
    "# This is the \"bounds array\"\n",
    "print(ticket_bounds)\n",
    "\n",
    "# Schedule is initially empty\n",
    "schedule = [\"\"] * number_of_timesteps\n",
    "\n",
    "# For each timestep, choose a random ticket and find the associated process\n",
    "# Record in schedule\n",
    "for timestep in range(number_of_timesteps):\n",
    "    lottery_value = random.randint(0,number_of_tickets)\n",
    "    chosen_process = get_associated_process(ticket_bounds,lottery_value)\n",
    "    # print(timestep,\" \", chosen_process, \" \", lottery_value)\n",
    "    schedule[timestep] = chosen_process\n",
    "\n",
    "# print(\"Schedule generated:\")\n",
    "# for timestep in range(number_of_timesteps):\n",
    "#     print(timestep,\" \", schedule[timestep])\n",
    "\n",
    "# Summarize the schedule to graph it\n",
    "schedule_counts = []\n",
    "schedule_percentages = []\n",
    "for process in range(number_of_processes):\n",
    "    schedule_counts.append([0]*number_of_timesteps)\n",
    "    schedule_percentages.append([0]*number_of_timesteps)\n",
    "    \n",
    "for timestep in range(number_of_timesteps):\n",
    "    scheduled_process = schedule[timestep]\n",
    "    for process in range(number_of_processes):\n",
    "        if timestep == 0:\n",
    "            previous_count = 0\n",
    "        else:\n",
    "            previous_count = schedule_counts[process][timestep-1]\n",
    "        schedule_counts[process][timestep] = previous_count\n",
    "        if (process == scheduled_process):\n",
    "            schedule_counts[process][timestep] = previous_count + 1\n",
    "            \n",
    "for timestep in range(number_of_timesteps):\n",
    "    sum = 0\n",
    "    for process in range(number_of_processes):\n",
    "        sum = sum + schedule_counts[process][timestep]\n",
    "    for process in range(number_of_processes):\n",
    "        schedule_percentages[process][timestep] = schedule_counts[process][timestep] / (sum*1.0)\n",
    "\n",
    "# Graph the summary\n",
    "%matplotlib inline \n",
    "for process in range(number_of_processes):\n",
    "    plotter.plot(schedule_percentages[process],label=\"Process \" + process_names[process])\n",
    "plotter.legend()\n"
   ]
  },
  {
   "cell_type": "markdown",
   "metadata": {},
   "source": [
    "## Experimentation\n",
    "\n",
    "Here are a few experiments you should try with this code:\n",
    "\n",
    "* Explore smaller (`100`, `10`) and larger (`10000`) values for `number_of_timesteps` and see if the proportions converge to what you expect\n",
    "* Add another process `D`, with an equal number of tickets as processes `A`,`B`, and `C`. Predict what the proportions should be in that case, and then run the simulation to check your prediction\n",
    "* With the four processes in place (`A`,`B`,`C`,`D`), set the tickets so that process `A` obtains approximately 80% of the CPU time and the rest obtain an equal share of the remaining 20% of the CPU time. Run the simulation to verify if your settings work."
   ]
  }
 ],
 "metadata": {
  "kernelspec": {
   "display_name": "Python 3",
   "language": "python",
   "name": "python3"
  },
  "language_info": {
   "codemirror_mode": {
    "name": "ipython",
    "version": 3
   },
   "file_extension": ".py",
   "mimetype": "text/x-python",
   "name": "python",
   "nbconvert_exporter": "python",
   "pygments_lexer": "ipython3",
   "version": "3.6.4"
  }
 },
 "nbformat": 4,
 "nbformat_minor": 2
}
