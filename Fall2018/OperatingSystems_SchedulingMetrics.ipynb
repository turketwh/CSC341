{
 "cells": [
  {
   "cell_type": "markdown",
   "metadata": {},
   "source": [
    "# Operating systems - Gantt charts and scheduling metrics"
   ]
  },
  {
   "cell_type": "markdown",
   "metadata": {},
   "source": [
    "In this notebook, the idea of a Gantt chart will be intoduced and you will be introduced and asked to explore a set of scheduling metrics."
   ]
  },
  {
   "cell_type": "markdown",
   "metadata": {},
   "source": [
    "## Needed terms\n",
    "\n",
    "We'll assume that, for a given set of processes, we are given the following information: \n",
    "\n",
    "* The name of the process, $P$\n",
    "* The arrival time of the the process into the system, $T_{arrival}$\n",
    "* The total service time of the process (how long it takes to complete the relevant work, assuming no breaks), $T_{service}$\n",
    "* The time of first running of the process, $T_{firstrun}$\n",
    "* The end time of the process, $T_{completion}$\n",
    "\n",
    "As sanity checks, it should always be the case that for any given process $P$,\n",
    "\n",
    "* $T_{firstrun} >= T_{arrival}$\n",
    "* $T_{completion} >= T_{firstrun} + T_{service}$\n",
    "\n"
   ]
  },
  {
   "cell_type": "markdown",
   "metadata": {},
   "source": [
    "## Gantt chart\n",
    "\n",
    "In this course, we'll show execution of processes in the form of a Gantt chart.  In the Gantt chart, we'll list processes on the rows (on the vertical axis) and timesteps on the columns (the horizontal axis).  \n",
    "\n",
    "Whenever a given process is executing in a timestep, an X will be placed in the corresponding (row, column) entry; otherwise, the entry is left blank (represented by a dash in the table below).\n",
    "\n",
    "An example Gantt chart with three processes over 12 timesteps is below:\n",
    "\n",
    "| Process | 0 | 1 | 2 | 3 | 4 | 5 | 6 | 7 | 8 | 9 | 10 | 11 |\n",
    "|:--:|:--:|:--:|:--:|:--:|:--:|:--:|:--:|:--:|:--:|:--:|:--:|:--:|\n",
    "| A | X | X | X | X | X | X | X | - | - | - | - | - | \n",
    "| B | - | - | - | - | - | - | - | - | X | X | X | X | \n",
    "| C | - | - | - | - | - | - | - | X | - | - | - | - |\n",
    "\n",
    "\n",
    "Gantt charts are commonly used in project planning, where the tasks to be completed are represented on the vertical axis and the planned timelines for each activity are represented on the horizontal axis.  In project management scenarios, it is possible to have multiple tasks in execution at the same time - an idea we won't support for the moment, given an assumption that we are working with only one CPU and can only execute one process at a time.  Since we are assuming no two processes are executing on the CPU at the same time, we could also collapse our representation into a linear representation:\n",
    "\n",
    "| Time | 0 | 1 | 2 | 3 | 4 | 5 | 6 | 7 | 8 | 9 | 10 | 11 |\n",
    "|:--:|:--:|:--:|:--:|:--:|:--:|:--:|:--:|:--:|:--:|:--:|:--:|:--:|\n",
    "| Process | A | A | A | A | A | A | A | C | B | B | B | B |\n",
    "\n",
    "Since these charts show execution times, we can extract $T_{firstrun}$, $T_{completion}$, and $T_{service}$, but we can't determine when each process arrived $T_{firstarrival}$."
   ]
  },
  {
   "cell_type": "markdown",
   "metadata": {},
   "source": [
    "## Metric definitions\n",
    "\n",
    "### User-focused metrics\n",
    "\n",
    "The first metrics we'll look at should be considered *user-focused*, as they relate to a user's perception of how his or her processes are being executed. The metric of *response time* is a particularly good example of such a metric. If one thinks of a process as generating output during execution, response time provides insight into how long it takes between the process entering the system and the first output to the user (assuming output from the process starts when the process starts executing). Low response time is important for interactive systems.\n",
    "\n",
    "The metrics of interest are: \n",
    "\n",
    "* *Turn-around time*: For a given process, the amount of time elapsed between process arrival and process completion.  $TA = T_{completion} - T_{arrival}$\n",
    "* *Normalized turn-around time*: For a given process, the ratio of turn-around time to service time.  $NTA = TA / T_{service}$\n",
    "* *Response time*: For a given process, the amount of time elapsed between process arrival and the time when the process first runs.  $R = T_{firstrun} - T_{arrival}$\n",
    "* *Average turn-around time*: For a set of N processes, the average turn-around time for the processes in that set.\n",
    "* *Average response time*: For a set of N processes, the average response time for the processes in that set.\n",
    "\n",
    "Note that these metrics are distinct from metrics based on the *state trace* of a process (where we had metrics such as % of time in the *Blocked* state).\n"
   ]
  },
  {
   "cell_type": "markdown",
   "metadata": {},
   "source": [
    "### Examples\n",
    "Consider the set of processes described in the table below.\n",
    "\n",
    "|Process|$T_{arrival}$|$T_{service}$|$T_{firstrun}$|$T_{completion}$|\n",
    "|:--:|:--:|:--:|:--:|:--:|\n",
    "|0|0|3|0|3|\n",
    "|1|2|6|3|9|\n",
    "|2|4|4|9|13|\n",
    "|3|6|5|13|18|\n",
    "|4|8|2|18|20|\n",
    "\n",
    "\n",
    "You can assume that processes complete and begin at the turn of the clock.  As an example, Process 0 begins execution at time 0; executes through timestep 0, 1, and 2; and ends execution as timestep 2 turns into timestep 3, at which point Process 1 begins.\n",
    "\n",
    "For this set of processes, the metrics of interest are in the table below.  We'll assume the unit of measurement for TA and R is arbitrary \"clock units\".\n",
    "\n",
    "|Job|TA|NTA|R|\n",
    "|:--:|:--:|:--:|:--:|\n",
    "|0|$3-0 = 3$|$3/3 = 1.00$|$0-0 = 0$|\n",
    "|1|$9-2 = 7$|$7/6 = 1.17$|$3-2 = 1$|\n",
    "|2|$13-4 = 9$|$9/4 = 2.25$|$9-4 = 5$|\n",
    "|3|$18-6 = 12$|$12/5 = 2.40$|$13-6 = 7$|\n",
    "|4|$20-8 = 12$|$12/2 = 6.00$|$18-8 = 10$|\n",
    "\n",
    "The average turn-around time is: $(3+7+9+12+12) / 5 = 43 / 5 = 8.60$ clock units.\n",
    "\n",
    "The average response time is: $(0+1+5+7+10) / 5 = 23 / 5 = 4.60$ clock units.\n"
   ]
  },
  {
   "cell_type": "markdown",
   "metadata": {},
   "source": [
    "### System-focused metrics\n",
    "Other metrics are considered *system-focused*, as they relate to how the system perceives is making use of its resources. Initially, we will look at just one of these metrics.\n",
    "\n",
    "* Throughput: The number of processes completed  per unit of time.  For a set of N processes, $N / (max(T_{completion}) - min(T_{arrival}))$\n",
    "\n",
    "The throughput for the five processes in the example above is: $5 / (20-0) = 0.25$ processes per clock unit."
   ]
  },
  {
   "cell_type": "markdown",
   "metadata": {},
   "source": [
    "## Metric computations code\n",
    "\n",
    "The Python code in the cell below will compute the metrics outlined above for you. Feel free to experiment with the process definitions and re-run the cell."
   ]
  },
  {
   "cell_type": "code",
   "execution_count": null,
   "metadata": {},
   "outputs": [],
   "source": [
    "# The variable processes represents a dictionary (hashtable), \n",
    "# where the key is a process id (0-4)\n",
    "# and the values are also dictionaries, with the keys \n",
    "# being strings representing a process\n",
    "# feature and the values being an actual time associated \n",
    "# with that feature.  The data is currently representing the \n",
    "# processes in the table outlined above under the *Examples* section\n",
    "\n",
    "processes = {}\n",
    "processes[0] = {'arrival':0,'service':3,'firstrun':0,'completion':3}\n",
    "processes[1] = {'arrival':2,'service':6,'firstrun':3,'completion':9}\n",
    "processes[2] = {'arrival':4,'service':4,'firstrun':9,'completion':13}\n",
    "processes[3] = {'arrival':6,'service':5,'firstrun':13,'completion':18}\n",
    "processes[4] = {'arrival':8,'service':2,'firstrun':18,'completion':20}\n",
    "\n",
    "# These variables help compute the summary metrics; they are\n",
    "# initialized to 0 and then added to as each process executes\n",
    "turnaroundSum = 0\n",
    "responseSum = 0\n",
    "# This determines the total number of jobs that are executed by\n",
    "# determining the length of the jobs dictionary\n",
    "numberOfProcesses = len(processes)\n",
    "# These variables are used to hold the largest time of completion \n",
    "# and smallest time of arrival across the set of processes\n",
    "maxTimeCompletion = -1\n",
    "minTimeArrival = -1\n",
    "\n",
    "# For each process\n",
    "for processName in processes:\n",
    "    # Get the data associatd with the job name \n",
    "    # and store in the processInfo variable\n",
    "    processInfo = processes[processName]\n",
    "    # If the completion time for this process is larger \n",
    "    # than the largest seen so far,\n",
    "    # it is the new maximum completion time; similarly, \n",
    "    # check for min arrival time\n",
    "    if (processName == 0):\n",
    "        maxTimeCompletion = processInfo['completion']\n",
    "        minTimeArrival = processInfo['arrival']\n",
    "    else:\n",
    "        if (processInfo['completion'] > maxTimeCompletion):\n",
    "            maxTimeCompletion = processInfo['completion']\n",
    "        if (processInfo['arrival'] < minTimeArrival):\n",
    "            minTimeArrival = processInfo['arrival']\n",
    "    # Compute turnaround time for this process\n",
    "    turnaroundTime = processInfo['completion'] - processInfo['arrival']\n",
    "    # Compute normalized turnaround time for this process\n",
    "    normalizedTurnaroundTime = turnaroundTime / processInfo['service']\n",
    "    # Compute response time for this process\n",
    "    responseTime = processInfo['firstrun']-processInfo['arrival']\n",
    "    # Print the three metrics for this process\n",
    "    print(\"Process \",processName,\"- TA: \",turnaroundTime, \"NTA: \",normalizedTurnaroundTime,\" R: \",responseTime)\n",
    "    # Add this process' turnaround time to the sum over all processes\n",
    "    turnaroundSum += turnaroundTime\n",
    "    # Add this process' response time to the sum over all processes\n",
    "    responseSum += responseTime\n",
    "\n",
    "# Compute and print the metrics that take into account all processes\n",
    "print(\"Average turn-around time: \", (turnaroundSum/numberOfProcesses))\n",
    "print(\"Average response time: \", (responseSum/numberOfProcesses))\n",
    "print(\"Throughput: \", (numberOfProcesses/(maxTimeCompletion-minTimeArrival)))"
   ]
  }
 ],
 "metadata": {
  "kernelspec": {
   "display_name": "Python 3",
   "language": "python",
   "name": "python3"
  },
  "language_info": {
   "codemirror_mode": {
    "name": "ipython",
    "version": 3
   },
   "file_extension": ".py",
   "mimetype": "text/x-python",
   "name": "python",
   "nbconvert_exporter": "python",
   "pygments_lexer": "ipython3",
   "version": "3.6.4"
  }
 },
 "nbformat": 4,
 "nbformat_minor": 2
}
