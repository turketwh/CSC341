{
 "cells": [
  {
   "cell_type": "markdown",
   "metadata": {},
   "source": [
    "# Analyzing actual program instruction memory traces"
   ]
  },
  {
   "cell_type": "markdown",
   "metadata": {},
   "source": [
    "This notebook allows one to analyze sets of *instruction memory traces* for three different actual programs.  An *instruction memory trace* is the ordered set of memory addresses of each instruction executed by a program.  This notebook fetches each data set and, for each data set, then computes and graphs hw many unique pages have been visited after each *k* instructions have been executed.  Each graph represents the cumulative number of unique pages visited.  In these examples, *k* is set to 500, so that the graphs are easier to draw.\n",
    "\n",
    "On line `56`, in the `offset_size_bits` variable, you can adjust how many right-most bits of a virtual/logical address are used for the *page/frame offset*.  The remaining bits will be used as the *page number*. The value used in the code by default is `12`, which supports 2^12 (4096) bytes within a page/frame.  "
   ]
  },
  {
   "cell_type": "code",
   "execution_count": null,
   "metadata": {},
   "outputs": [],
   "source": [
    "import urllib.request\n",
    "import matplotlib.pyplot as plotter\n",
    "\n",
    "def fetch_data(input_url_arg):\n",
    "    response = urllib.request.urlopen(input_url_arg)\n",
    "    data = response.read()  \n",
    "    text = data.decode('utf-8')\n",
    "    lines = text.splitlines()    \n",
    "    return lines\n",
    "\n",
    "def analyze(instructions_list_arg, address_size_arg, split_point_arg):\n",
    "    scale = 16\n",
    "    visited_pages = {}\n",
    "\n",
    "    time_steps = []\n",
    "    unique_pages = []\n",
    "    shifts = []\n",
    "    previous_page = -1\n",
    "\n",
    "    number_of_instructions = len(instructions_list_arg)\n",
    "    for lineIndex in range(number_of_instructions):\n",
    "        if (lineIndex % 500 == 0):\n",
    "            time_steps.append(lineIndex)\n",
    "            unique_pages.append(len(visited_pages))      \n",
    "        line = instructions_list_arg[lineIndex]\n",
    "        words = line.split()\n",
    "        hex_string = words[0]\n",
    "        binary_string = bin(int(hex_string,16))[2:].zfill(address_size_arg)\n",
    "        page = binary_string[0:split_point_arg]\n",
    "        offset = binary_string[split_point_arg:]\n",
    "        if (page in visited_pages):\n",
    "            count = visited_pages[page]\n",
    "            visited_pages[page] = count + 1\n",
    "        else:\n",
    "            visited_pages[page] = 1\n",
    "        if (page != previous_page):\n",
    "            shifts.append(1)\n",
    "        else:\n",
    "            shifts.append(0)\n",
    "        previous_page = page\n",
    "        \n",
    "    #sub_plot = figure_arg.add_subplot(3, 1, instance_arg)\n",
    "    #sub_plot.plot(time_steps, unique_pages,\"o\",color=\"black\")\n",
    "    fig = plotter.figure()\n",
    "    axes = plotter.axes()\n",
    "    plotter.plot(time_steps,unique_pages,\"o\",color=\"black\")\n",
    "    plotter.xlabel(\"Instruction number\")\n",
    "    plotter.ylabel(\"Unique pages visited\")\n",
    "    plotter.xticks(range(min(time_steps), max(time_steps)+5, 1000))\n",
    "    plotter.yticks(range(min(unique_pages), max(unique_pages)+5, 3))\n",
    "    axes.grid()\n",
    "    fig.show()\n",
    "    \n",
    "# parameters\n",
    "address_size_bits = 64\n",
    "offset_size_bits = 12 \n",
    "split_point_bits = address_size_bits - offset_size_bits\n",
    "\n",
    "# fetch, analyze, and graph the instruction trace information\n",
    "%matplotlib inline \n",
    "# fetch the data from the web\n",
    "analyze(fetch_data(\"http://csweb.cs.wfu.edu/~turketwh/341/Fall2019/ls_10000.txt\"),address_size_bits,split_point_bits)\n",
    "analyze(fetch_data(\"http://csweb.cs.wfu.edu/~turketwh/341/Fall2019/df_10000.txt\"),address_size_bits,split_point_bits)\n",
    "analyze(fetch_data(\"http://csweb.cs.wfu.edu/~turketwh/341/Fall2019/who_10000.txt\"),address_size_bits,split_point_bits)\n",
    "\n",
    "\n"
   ]
  },
  {
   "cell_type": "markdown",
   "metadata": {},
   "source": [
    "## To investigate\n",
    "\n",
    "*Add your answers to the Google Doc that is associated with the same assignment as these Python notebooks.*\n",
    "\n",
    "1. How many instructions are being analyzed for the graphs in the data being used by the code provided to you?\n",
    "2. Given the number of instructions and 4096-byte pages, what is the maximum number of pages visited for each of the three programs? Write down three values - one from each graph. The graphs represent the Unix programs: `ls`, `df`, and `who` respectively.\n",
    "3. Before investigating Question 4 below, predict whether the number of unique pages visited should *increase* or *decrease* as the `offset_size_bits` variable value increases?\n",
    "4. Increase the page size to 16384-byte pages by adjusting the `offset_size_bits` variable on line `56`. Given the number of instructions and 16384-byte pages, what is the maximum number of pages visited for each of the three programs? How does your answer here compare with your answer to Question 3 above?\n",
    "5. Shrink the page size to 512-byte pages by adjusting the `offset_size_bits` variable on line `56`. Given the number of instructions and 512-byte pages, what is the maximum number of pages visited for each of the three programs?\n",
    "6. On lines `62` through `64`, change the filenames so that they no longer end in `10000.txt` but instead end in `all.txt`.  For example, on line `62`, the parameter to the `fetch_data` function should now be: `http://csweb.cs.wfu.edu/~turketwh/341/Fall2019/ls_all.txt`.  Which program has the *longest* memory trace (*maximum* number of instructions executed)?\n",
    "7. Set the `offset_size_bits` back to `12` to support 4096 byte pages. Keeping the filenames the same, which program visits the *most* (*maximum number*) of pages during program execution?\n",
    "8. Assume that the TLB for the machine that these programs are running on has a size of `128`? For 4096-byte pages, is this TLB large enough to hold information on all the pages visited by each program? Consider the programs independently.  \n",
    "9. For the `ls` program (the first graph drawn), is there any *time range* where the number of pages visited does not grow much? "
   ]
  }
 ],
 "metadata": {
  "kernelspec": {
   "display_name": "Python 3",
   "language": "python",
   "name": "python3"
  },
  "language_info": {
   "codemirror_mode": {
    "name": "ipython",
    "version": 3
   },
   "file_extension": ".py",
   "mimetype": "text/x-python",
   "name": "python",
   "nbconvert_exporter": "python",
   "pygments_lexer": "ipython3",
   "version": "3.6.4"
  }
 },
 "nbformat": 4,
 "nbformat_minor": 2
}
